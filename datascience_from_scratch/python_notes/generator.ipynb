{
 "cells": [
  {
   "cell_type": "code",
   "execution_count": 1,
   "metadata": {},
   "outputs": [],
   "source": [
    "import sys "
   ]
  },
  {
   "attachments": {},
   "cell_type": "markdown",
   "metadata": {},
   "source": [
    "### example 1 \n"
   ]
  },
  {
   "cell_type": "code",
   "execution_count": null,
   "metadata": {},
   "outputs": [],
   "source": [
    "x = [1,2,3,4,5,6,7,8,9,10] \n",
    "\n",
    "for element in x: #here you stored all numbers in x \n",
    "    print(x) \n",
    "\n",
    "for i in range(1,11):\n",
    "    print(i)\n",
    "\n",
    "print(sys.getsizeof(x))\n",
    "print(sys.getsizeof(range(1,11)))"
   ]
  },
  {
   "attachments": {},
   "cell_type": "markdown",
   "metadata": {},
   "source": [
    "### example 2\n"
   ]
  },
  {
   "cell_type": "code",
   "execution_count": 2,
   "metadata": {},
   "outputs": [
    {
     "name": "stdout",
     "output_type": "stream",
     "text": [
      "1\n",
      "4\n",
      "9\n",
      "16\n",
      "loop starts\n",
      "25\n",
      "36\n",
      "49\n",
      "64\n",
      "81\n",
      "100\n"
     ]
    }
   ],
   "source": [
    "# how iterator works ? \n",
    "y = [1,2,3,4,5,6,7,8,9,10] \n",
    "\n",
    "z = map(lambda i : i**2, y) #z is an interator object \n",
    "\n",
    "print(next(z))\n",
    "print(next(z))\n",
    "print(next(z))\n",
    "print(next(z))\n",
    "print('loop starts')\n",
    "for i in z:\n",
    "    print(i)\n",
    "\n",
    "#print(next(y))   #this will error out cuz list is not an iterator "
   ]
  },
  {
   "attachments": {},
   "cell_type": "markdown",
   "metadata": {},
   "source": [
    "### example 3\n"
   ]
  },
  {
   "cell_type": "code",
   "execution_count": 4,
   "metadata": {},
   "outputs": [
    {
     "name": "stdout",
     "output_type": "stream",
     "text": [
      "1\n",
      "4\n",
      "9\n",
      "16\n",
      "25\n",
      "36\n",
      "49\n",
      "64\n",
      "81\n",
      "100\n",
      "Done\n"
     ]
    }
   ],
   "source": [
    "y = [1,2,3,4,5,6,7,8,9,10] \n",
    "z = map(lambda i : i**2, y) #z is an interator objec\n",
    "\n",
    "# what the for loop does (for i in z) is essentially: \n",
    "while True:\n",
    "    try: \n",
    "        value = next(z)\n",
    "        print(value)\n",
    "    except StopIteration:\n",
    "        print('Done')\n",
    "        break \n"
   ]
  },
  {
   "attachments": {},
   "cell_type": "markdown",
   "metadata": {},
   "source": [
    "### example 4\n",
    "- iter()\n"
   ]
  },
  {
   "cell_type": "code",
   "execution_count": 14,
   "metadata": {},
   "outputs": [
    {
     "name": "stdout",
     "output_type": "stream",
     "text": [
      "range(1, 11)\n",
      "1\n",
      "1\n",
      "1\n",
      "2\n"
     ]
    }
   ],
   "source": [
    "x = range(1,11)\n",
    "print(x) # wil lreturn string representation \n",
    "\n",
    "#next(x) #will error out because range object is not an iterator \n",
    "\n",
    "\n",
    "print(next(iter(x))) \n",
    "print(next(iter(x))) # notice that it is still 1 , seems that iter() will \"Reset\" x \n",
    "\n",
    "print('-------------------')\n",
    "hh = iter(x)\n",
    "print(next(hh))\n",
    "print(next(hh)) # notice that it is 2 now \n",
    "\n",
    "# therefore,  for for loop in python : for i in some_sequence , it is essentially:\n",
    "#for i in iter(some_sequence) , and call next() on the iterator \n",
    "\n"
   ]
  },
  {
   "attachments": {},
   "cell_type": "markdown",
   "metadata": {},
   "source": [
    "### iter() definition"
   ]
  },
  {
   "cell_type": "code",
   "execution_count": null,
   "metadata": {},
   "outputs": [],
   "source": []
  }
 ],
 "metadata": {
  "kernelspec": {
   "display_name": ".venv",
   "language": "python",
   "name": "python3"
  },
  "language_info": {
   "codemirror_mode": {
    "name": "ipython",
    "version": 3
   },
   "file_extension": ".py",
   "mimetype": "text/x-python",
   "name": "python",
   "nbconvert_exporter": "python",
   "pygments_lexer": "ipython3",
   "version": "3.8.10"
  },
  "orig_nbformat": 4
 },
 "nbformat": 4,
 "nbformat_minor": 2
}
